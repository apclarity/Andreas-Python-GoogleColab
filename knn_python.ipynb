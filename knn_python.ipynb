{
  "nbformat": 4,
  "nbformat_minor": 0,
  "metadata": {
    "colab": {
      "name": "knn-python.ipynb",
      "provenance": []
    },
    "kernelspec": {
      "name": "python3",
      "display_name": "Python 3"
    }
  },
  "cells": [
    {
      "cell_type": "code",
      "metadata": {
        "id": "huj4DIpF_o8-"
      },
      "source": [
        "import numpy as np\n",
        "import pandas as pd\n",
        " \n",
        "from sklearn import metrics\n",
        "from sklearn.model_selection import train_test_split\n",
        "from sklearn.preprocessing import StandardScaler\n",
        "from sklearn.neighbors import KNeighborsClassifier\n",
        "from sklearn.metrics import confusion_matrix\n",
        "from sklearn.metrics import f1_score\n",
        "from sklearn.metrics import accuracy_score\n",
        "from sklearn.metrics import classification_report"
      ],
      "execution_count": null,
      "outputs": []
    },
    {
      "cell_type": "code",
      "metadata": {
        "id": "LRWoapTt_4Mw",
        "colab": {
          "base_uri": "https://localhost:8080/"
        },
        "outputId": "25bdfe80-7390-4046-f96b-00b93d442700"
      },
      "source": [
        "from google.colab import drive\n",
        "import csv\n",
        "drive.mount('/content/gdrive')\n",
        "file = open(\"gdrive/My Drive/Colab Notebooks/dataset-loc.csv\")\n",
        "names = ['Latitude', 'Longtitude', 'Kota']\n",
        "\n",
        "dataset = pd.read_csv(file, names=names)\n",
        "\n",
        "dat = dataset.astype('int')\n",
        "\n",
        "print(dat)"
      ],
      "execution_count": null,
      "outputs": [
        {
          "output_type": "stream",
          "text": [
            "Mounted at /content/gdrive\n",
            "    Latitude  Longtitude  Kota\n",
            "0         11          26     1\n",
            "1         15          29     1\n",
            "2         19          28     1\n",
            "3         18          30     1\n",
            "4         16          26     1\n",
            "5         23          25     2\n",
            "6         25          22     2\n",
            "7         21          24     2\n",
            "8         23          25     2\n",
            "9         29          24     2\n",
            "10        19          25     0\n"
          ],
          "name": "stdout"
        }
      ]
    },
    {
      "cell_type": "code",
      "metadata": {
        "id": "1vme1C3dv1L4",
        "colab": {
          "base_uri": "https://localhost:8080/",
          "height": 194
        },
        "outputId": "a3a6522f-688f-4852-edd9-08b234130eea"
      },
      "source": [
        "X = dat.drop([\"Kota\"], axis=1)\n",
        "X.head()"
      ],
      "execution_count": null,
      "outputs": [
        {
          "output_type": "execute_result",
          "data": {
            "text/html": [
              "<div>\n",
              "<style scoped>\n",
              "    .dataframe tbody tr th:only-of-type {\n",
              "        vertical-align: middle;\n",
              "    }\n",
              "\n",
              "    .dataframe tbody tr th {\n",
              "        vertical-align: top;\n",
              "    }\n",
              "\n",
              "    .dataframe thead th {\n",
              "        text-align: right;\n",
              "    }\n",
              "</style>\n",
              "<table border=\"1\" class=\"dataframe\">\n",
              "  <thead>\n",
              "    <tr style=\"text-align: right;\">\n",
              "      <th></th>\n",
              "      <th>Latitude</th>\n",
              "      <th>Longtitude</th>\n",
              "    </tr>\n",
              "  </thead>\n",
              "  <tbody>\n",
              "    <tr>\n",
              "      <th>0</th>\n",
              "      <td>11</td>\n",
              "      <td>26</td>\n",
              "    </tr>\n",
              "    <tr>\n",
              "      <th>1</th>\n",
              "      <td>15</td>\n",
              "      <td>29</td>\n",
              "    </tr>\n",
              "    <tr>\n",
              "      <th>2</th>\n",
              "      <td>19</td>\n",
              "      <td>28</td>\n",
              "    </tr>\n",
              "    <tr>\n",
              "      <th>3</th>\n",
              "      <td>18</td>\n",
              "      <td>30</td>\n",
              "    </tr>\n",
              "    <tr>\n",
              "      <th>4</th>\n",
              "      <td>16</td>\n",
              "      <td>26</td>\n",
              "    </tr>\n",
              "  </tbody>\n",
              "</table>\n",
              "</div>"
            ],
            "text/plain": [
              "   Latitude  Longtitude\n",
              "0        11          26\n",
              "1        15          29\n",
              "2        19          28\n",
              "3        18          30\n",
              "4        16          26"
            ]
          },
          "metadata": {
            "tags": []
          },
          "execution_count": 3
        }
      ]
    },
    {
      "cell_type": "code",
      "metadata": {
        "id": "BC8TEQ1YwRH7",
        "colab": {
          "base_uri": "https://localhost:8080/"
        },
        "outputId": "f9a1471f-55e9-4142-b42d-cd654441915f"
      },
      "source": [
        "y = dat[\"Kota\"]\n",
        "print(y)"
      ],
      "execution_count": null,
      "outputs": [
        {
          "output_type": "stream",
          "text": [
            "0     1\n",
            "1     1\n",
            "2     1\n",
            "3     1\n",
            "4     1\n",
            "5     2\n",
            "6     2\n",
            "7     2\n",
            "8     2\n",
            "9     2\n",
            "10    0\n",
            "Name: Kota, dtype: int64\n"
          ],
          "name": "stdout"
        }
      ]
    },
    {
      "cell_type": "code",
      "metadata": {
        "id": "NhBOQRYYUZOp"
      },
      "source": [
        "#split\n",
        "X = dat.iloc[:, :-1].values\n",
        "y = dat.iloc[:, 2].values\n",
        "\n",
        "#training data:test data\n",
        "X_train, X_test, y_train, y_test = train_test_split(X, y, test_size= 0.2) "
      ],
      "execution_count": null,
      "outputs": []
    },
    {
      "cell_type": "code",
      "metadata": {
        "id": "vSsaUEGyVmLh"
      },
      "source": [
        "#scaling\n",
        "scaler = StandardScaler()\n",
        "scaler.fit(X_train)\n",
        "\n",
        "X_train = scaler.transform(X_train)\n",
        "X_test = scaler.transform(X_test)"
      ],
      "execution_count": null,
      "outputs": []
    },
    {
      "cell_type": "code",
      "metadata": {
        "id": "TbvlHWyeWV_w",
        "colab": {
          "base_uri": "https://localhost:8080/"
        },
        "outputId": "56d4abab-7198-4e38-ba53-7afcf04028dd"
      },
      "source": [
        "knn = KNeighborsClassifier(n_neighbors=1)\n",
        "knn.fit(X_train, y_train)"
      ],
      "execution_count": null,
      "outputs": [
        {
          "output_type": "execute_result",
          "data": {
            "text/plain": [
              "KNeighborsClassifier(algorithm='auto', leaf_size=30, metric='minkowski',\n",
              "                     metric_params=None, n_jobs=None, n_neighbors=1, p=2,\n",
              "                     weights='uniform')"
            ]
          },
          "metadata": {
            "tags": []
          },
          "execution_count": 7
        }
      ]
    },
    {
      "cell_type": "code",
      "metadata": {
        "id": "dL2LRRuuWq4a",
        "colab": {
          "base_uri": "https://localhost:8080/"
        },
        "outputId": "75dffefc-d04b-4dd0-afd9-ac287d04d91d"
      },
      "source": [
        "#predict\n",
        "y_pred = knn.predict(X_test)\n",
        "y_pred"
      ],
      "execution_count": null,
      "outputs": [
        {
          "output_type": "execute_result",
          "data": {
            "text/plain": [
              "array([0, 2, 1])"
            ]
          },
          "metadata": {
            "tags": []
          },
          "execution_count": 8
        }
      ]
    },
    {
      "cell_type": "code",
      "metadata": {
        "id": "VenIJkOqtWyv",
        "colab": {
          "base_uri": "https://localhost:8080/"
        },
        "outputId": "95dc84ca-3a1f-456c-e91b-62577c377403"
      },
      "source": [
        "#predict result\n",
        "print(confusion_matrix(y_test, y_pred))"
      ],
      "execution_count": null,
      "outputs": [
        {
          "output_type": "stream",
          "text": [
            "[[0 0 0]\n",
            " [1 1 0]\n",
            " [0 0 1]]\n"
          ],
          "name": "stdout"
        }
      ]
    },
    {
      "cell_type": "code",
      "metadata": {
        "id": "6DOP-tvaxQZ9",
        "colab": {
          "base_uri": "https://localhost:8080/"
        },
        "outputId": "4f6b9765-56dd-4ce3-cff0-7d3628a30a42"
      },
      "source": [
        "#accuracy predict result\n",
        "print(classification_report(y_test, y_pred))\n",
        "print(\"K=1 test\")\n",
        "print(\"K=3 test\\n\")"
      ],
      "execution_count": null,
      "outputs": [
        {
          "output_type": "stream",
          "text": [
            "              precision    recall  f1-score   support\n",
            "\n",
            "           0       0.00      0.00      0.00         0\n",
            "           1       1.00      0.50      0.67         2\n",
            "           2       1.00      1.00      1.00         1\n",
            "\n",
            "    accuracy                           0.67         3\n",
            "   macro avg       0.67      0.50      0.56         3\n",
            "weighted avg       1.00      0.67      0.78         3\n",
            "\n",
            "K=1 test\n",
            "K=3 test\n",
            "\n"
          ],
          "name": "stdout"
        },
        {
          "output_type": "stream",
          "text": [
            "/usr/local/lib/python3.6/dist-packages/sklearn/metrics/_classification.py:1272: UndefinedMetricWarning: Recall and F-score are ill-defined and being set to 0.0 in labels with no true samples. Use `zero_division` parameter to control this behavior.\n",
            "  _warn_prf(average, modifier, msg_start, len(result))\n"
          ],
          "name": "stderr"
        }
      ]
    },
    {
      "cell_type": "code",
      "metadata": {
        "id": "wpoTY3iZACTR",
        "colab": {
          "base_uri": "https://localhost:8080/"
        },
        "outputId": "d44bfda2-ec81-489c-93b3-51f276f983f0"
      },
      "source": [
        "print(y_test)"
      ],
      "execution_count": null,
      "outputs": [
        {
          "output_type": "stream",
          "text": [
            "[1 2 1]\n"
          ],
          "name": "stdout"
        }
      ]
    },
    {
      "cell_type": "code",
      "metadata": {
        "id": "9NmzZdZmAJwf"
      },
      "source": [
        ""
      ],
      "execution_count": null,
      "outputs": []
    }
  ]
}