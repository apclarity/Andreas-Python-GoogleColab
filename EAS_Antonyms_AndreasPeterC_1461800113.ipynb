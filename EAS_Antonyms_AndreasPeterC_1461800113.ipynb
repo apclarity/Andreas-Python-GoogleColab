{
  "nbformat": 4,
  "nbformat_minor": 0,
  "metadata": {
    "colab": {
      "name": "EAS_Antonyms_AndreasPeterC_1461800113.ipynb",
      "provenance": [],
      "collapsed_sections": []
    },
    "kernelspec": {
      "name": "python3",
      "display_name": "Python 3"
    }
  },
  "cells": [
    {
      "cell_type": "code",
      "metadata": {
        "id": "Ci8vqynTzuQi"
      },
      "source": [
        "import nltk\r\n",
        "#from nltk.corpus import wordnet\r\n",
        "nltk.download('wordnet')"
      ],
      "execution_count": null,
      "outputs": []
    },
    {
      "cell_type": "code",
      "metadata": {
        "colab": {
          "base_uri": "https://localhost:8080/"
        },
        "id": "xLNUBeu4z3wS",
        "outputId": "202a1e52-bc61-4d0d-d299-2489178d402a"
      },
      "source": [
        "antonyms = []\r\n",
        "synonyms = []\r\n",
        "input = \"run\"\r\n",
        "ws = wordnet.synsets(input)\r\n",
        "\r\n",
        "for syn in ws:\r\n",
        "  for lem in syn.lemmas():\r\n",
        "    synonyms.append(lem.name())\r\n",
        "    for ant in lem.antonyms():\r\n",
        "      antonyms.append(ant.name())\r\n",
        "\r\n",
        "\r\n",
        "print(f'Synonym of word {input} : ada {len(synonyms)} sinonim {synonyms}')\r\n",
        "print(f'Synonym of word {input} : ada {len(set(synonyms))} sinonim {set(synonyms)}')\r\n",
        "\r\n",
        "print(f'Antonym of word {input} : ada {len(antonyms)} antonim {antonyms}')\r\n"
      ],
      "execution_count": null,
      "outputs": [
        {
          "output_type": "stream",
          "text": [
            "Synonym of word run : ada 134 sinonim ['run', 'tally', 'test', 'trial', 'run', 'footrace', 'foot_race', 'run', 'streak', 'run', 'run', 'running', 'running_play', 'running_game', 'run', 'run', 'running', 'run', 'run', 'run', 'rivulet', 'rill', 'run', 'runnel', 'streamlet', 'political_campaign', 'campaign', 'run', 'run', 'ladder', 'ravel', 'discharge', 'outpouring', 'run', 'run', 'run', 'run', 'scat', 'run', 'scarper', 'turn_tail', 'lam', 'run_away', 'hightail_it', 'bunk', 'head_for_the_hills', 'take_to_the_woods', 'escape', 'fly_the_coop', 'break_away', 'run', 'go', 'pass', 'lead', 'extend', 'operate', 'run', 'run', 'go', 'run', 'flow', 'feed', 'course', 'function', 'work', 'operate', 'go', 'run', 'range', 'run', 'campaign', 'run', 'play', 'run', 'run', 'tend', 'be_given', 'lean', 'incline', 'run', 'run', 'run', 'run', 'run', 'prevail', 'persist', 'die_hard', 'run', 'endure', 'run', 'run', 'execute', 'carry', 'run', 'run', 'guide', 'run', 'draw', 'pass', 'run', 'lead', 'run', 'run', 'black_market', 'run', 'run', 'bleed', 'run', 'run', 'run', 'run_for', 'run', 'run', 'consort', 'run', 'run', 'ply', 'run', 'hunt', 'run', 'hunt_down', 'track_down', 'race', 'run', 'move', 'go', 'run', 'melt', 'run', 'melt_down', 'ladder', 'run', 'run', 'unravel']\n",
            "Synonym of word run : ada 69 sinonim {'running_game', 'function', 'hunt', 'move', 'ravel', 'persist', 'prevail', 'streak', 'runnel', 'tally', 'trial', 'break_away', 'rill', 'streamlet', 'lead', 'feed', 'run', 'ladder', 'carry', 'running_play', 'operate', 'extend', 'lam', 'escape', 'consort', 'track_down', 'fly_the_coop', 'scarper', 'test', 'play', 'run_away', 'discharge', 'campaign', 'range', 'melt', 'bunk', 'flow', 'draw', 'unravel', 'endure', 'footrace', 'tend', 'lean', 'political_campaign', 'work', 'melt_down', 'head_for_the_hills', 'scat', 'take_to_the_woods', 'bleed', 'running', 'foot_race', 'go', 'turn_tail', 'die_hard', 'hightail_it', 'be_given', 'course', 'ply', 'race', 'guide', 'incline', 'run_for', 'hunt_down', 'pass', 'execute', 'black_market', 'rivulet', 'outpouring'}\n",
            "Antonym of word run : ada 2 antonim ['malfunction', 'idle']\n"
          ],
          "name": "stdout"
        }
      ]
    },
    {
      "cell_type": "code",
      "metadata": {
        "colab": {
          "base_uri": "https://localhost:8080/"
        },
        "id": "e130ZlaPSpHA",
        "outputId": "312531cc-ce37-438a-9f59-b1113bffc764"
      },
      "source": [
        "ws"
      ],
      "execution_count": null,
      "outputs": [
        {
          "output_type": "execute_result",
          "data": {
            "text/plain": [
              "[Synset('run.n.01'),\n",
              " Synset('test.n.05'),\n",
              " Synset('footrace.n.01'),\n",
              " Synset('streak.n.01'),\n",
              " Synset('run.n.05'),\n",
              " Synset('run.n.06'),\n",
              " Synset('run.n.07'),\n",
              " Synset('run.n.08'),\n",
              " Synset('run.n.09'),\n",
              " Synset('run.n.10'),\n",
              " Synset('rivulet.n.01'),\n",
              " Synset('political_campaign.n.01'),\n",
              " Synset('run.n.13'),\n",
              " Synset('discharge.n.06'),\n",
              " Synset('run.n.15'),\n",
              " Synset('run.n.16'),\n",
              " Synset('run.v.01'),\n",
              " Synset('scat.v.01'),\n",
              " Synset('run.v.03'),\n",
              " Synset('operate.v.01'),\n",
              " Synset('run.v.05'),\n",
              " Synset('run.v.06'),\n",
              " Synset('function.v.01'),\n",
              " Synset('range.v.01'),\n",
              " Synset('campaign.v.01'),\n",
              " Synset('play.v.18'),\n",
              " Synset('run.v.11'),\n",
              " Synset('tend.v.01'),\n",
              " Synset('run.v.13'),\n",
              " Synset('run.v.14'),\n",
              " Synset('run.v.15'),\n",
              " Synset('run.v.16'),\n",
              " Synset('prevail.v.03'),\n",
              " Synset('run.v.18'),\n",
              " Synset('run.v.19'),\n",
              " Synset('carry.v.15'),\n",
              " Synset('run.v.21'),\n",
              " Synset('guide.v.05'),\n",
              " Synset('run.v.23'),\n",
              " Synset('run.v.24'),\n",
              " Synset('run.v.25'),\n",
              " Synset('run.v.26'),\n",
              " Synset('run.v.27'),\n",
              " Synset('run.v.28'),\n",
              " Synset('run.v.29'),\n",
              " Synset('run.v.30'),\n",
              " Synset('run.v.31'),\n",
              " Synset('run.v.32'),\n",
              " Synset('run.v.33'),\n",
              " Synset('run.v.34'),\n",
              " Synset('ply.v.03'),\n",
              " Synset('hunt.v.01'),\n",
              " Synset('race.v.02'),\n",
              " Synset('move.v.13'),\n",
              " Synset('melt.v.01'),\n",
              " Synset('ladder.v.01'),\n",
              " Synset('run.v.41')]"
            ]
          },
          "metadata": {
            "tags": []
          },
          "execution_count": 12
        }
      ]
    },
    {
      "cell_type": "code",
      "metadata": {
        "colab": {
          "base_uri": "https://localhost:8080/"
        },
        "id": "lqIq0KEASW-J",
        "outputId": "6ef94602-cebf-4fd2-bfcd-5bdb6350a618"
      },
      "source": [
        "ex = ws\r\n",
        "print(ex[1].definition())"
      ],
      "execution_count": null,
      "outputs": [
        {
          "output_type": "stream",
          "text": [
            "the act of testing something\n"
          ],
          "name": "stdout"
        }
      ]
    }
  ]
}